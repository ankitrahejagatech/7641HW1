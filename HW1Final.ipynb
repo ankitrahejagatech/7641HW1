{
 "cells": [
  {
   "cell_type": "code",
   "execution_count": 59,
   "metadata": {},
   "outputs": [
    {
     "name": "stdout",
     "output_type": "stream",
     "text": [
      "Requirement already satisfied: ucimlrepo in /usr/local/python/3.10.13/lib/python3.10/site-packages (0.0.7)\n",
      "Requirement already satisfied: pandas>=1.0.0 in /home/codespace/.local/lib/python3.10/site-packages (from ucimlrepo) (2.2.2)\n",
      "Requirement already satisfied: certifi>=2020.12.5 in /home/codespace/.local/lib/python3.10/site-packages (from ucimlrepo) (2024.2.2)\n",
      "Requirement already satisfied: numpy>=1.22.4 in /home/codespace/.local/lib/python3.10/site-packages (from pandas>=1.0.0->ucimlrepo) (1.26.4)\n",
      "Requirement already satisfied: python-dateutil>=2.8.2 in /home/codespace/.local/lib/python3.10/site-packages (from pandas>=1.0.0->ucimlrepo) (2.9.0.post0)\n",
      "Requirement already satisfied: pytz>=2020.1 in /home/codespace/.local/lib/python3.10/site-packages (from pandas>=1.0.0->ucimlrepo) (2024.1)\n",
      "Requirement already satisfied: tzdata>=2022.7 in /home/codespace/.local/lib/python3.10/site-packages (from pandas>=1.0.0->ucimlrepo) (2024.1)\n",
      "Requirement already satisfied: six>=1.5 in /home/codespace/.local/lib/python3.10/site-packages (from python-dateutil>=2.8.2->pandas>=1.0.0->ucimlrepo) (1.16.0)\n",
      "Note: you may need to restart the kernel to use updated packages.\n"
     ]
    }
   ],
   "source": [
    "%pip install ucimlrepo\n",
    "from ucimlrepo import fetch_ucirepo\n",
    "from sklearn.experimental import enable_iterative_imputer\n",
    "from sklearn.preprocessing import LabelEncoder,StandardScaler\n",
    "from sklearn.impute import IterativeImputer\n",
    "from sklearn.linear_model import BayesianRidge  # Example estimator\n",
    "import pandas as pd\n",
    "import numpy as np\n",
    "from sklearn.model_selection import train_test_split\n",
    "import warnings\n",
    "warnings.filterwarnings('ignore')\n",
    "import seaborn as sns\n",
    "import matplotlib.pyplot as plt\n",
    "import numpy as np\n",
    "from sklearn.model_selection import train_test_split,GridSearchCV,cross_validate\n",
    "from sklearn.preprocessing import OneHotEncoder,StandardScaler\n",
    "from sklearn.metrics import roc_auc_score, accuracy_score, f1_score, precision_score, recall_score, confusion_matrix"
   ]
  },
  {
   "cell_type": "markdown",
   "metadata": {},
   "source": [
    "##Download both the datasets and Preprocess\n",
    "#Missing Data Found in Bmarketing| Added One Hot Encoding and padded missing data"
   ]
  },
  {
   "cell_type": "code",
   "execution_count": 69,
   "metadata": {},
   "outputs": [],
   "source": [
    "bank_marketing = pd.read_csv('/workspaces/7641HW1/data/BankMarketingData.csv')\n",
    "breast_cancer = fetch_ucirepo(id=17)\n",
    "X2 = pd.DataFrame(breast_cancer.data.features, columns=breast_cancer.feature_names)\n",
    "y2 = pd.DataFrame(breast_cancer.data.targets)\n",
    "dataset_2 = pd.concat([X2, y2], axis=1)\n",
    "scaler = StandardScaler()\n",
    "num_var =  ['radius1', 'texture1', 'perimeter1', 'area1', 'smoothness1',\n",
    "       'compactness1', 'concavity1', 'concave_points1', 'symmetry1',\n",
    "       'fractal_dimension1', 'radius2', 'texture2', 'perimeter2', 'area2',\n",
    "       'smoothness2', 'compactness2', 'concavity2', 'concave_points2',\n",
    "       'symmetry2', 'fractal_dimension2', 'radius3', 'texture3', 'perimeter3',\n",
    "       'area3', 'smoothness3', 'compactness3', 'concavity3', 'concave_points3',\n",
    "       'symmetry3', 'fractal_dimension3']\n",
    "dataset_2[num_var] = scaler.fit_transform(dataset_2[num_var])\n",
    "#print(y2.value_counts())\n",
    "dataset_2['Diagnosis'] = dataset_2['Diagnosis'].replace({'M': 1, 'B': 0}).astype('category')\n",
    "\n",
    "#bankmarketing preprocessing\n",
    "bank_marketing['y'] = bank_marketing['y'].replace({'yes': 1, 'no': 0}).astype('category')\n",
    "bank_marketing = bank_marketing.apply(lambda x: x.fillna(x.mean()) if x.dtype.kind in 'biufc' else x.replace('unknown', x.mode()[0]).fillna(x.mode()[0]))\n",
    "# Last_Column = bank_marketing.iloc[:, -1]  # This selects the last column\n",
    "# y1 = pd.DataFrame(Last_Column)\n",
    "# Last_Column = bank_marketing.iloc[:, -1] \n",
    "# y1 = pd.DataFrame(Last_Column)\n",
    "# y1['y'] = y1['y'].replace({'yes': 1, 'no': 0})\n",
    "# all_except_last = bank_marketing.iloc[:, :-1]  # This selects all columns except the last one\n",
    "# # Step 3: Create a new DataFrame with the selected columns\n",
    "# X1 = pd.DataFrame(all_except_last)\n",
    "# X1['previous_contact'] = X1['pdays'].apply(lambda x: False if x == 999 else True)\n",
    "# categorical_cols = X1.select_dtypes(include=['object', 'category']).columns.tolist()\n",
    "# numerical_cols = X1.select_dtypes(include=['number']).columns.tolist()\n",
    "# X1[numerical_cols]=scaler.fit_transform(X1[numerical_cols])\n",
    "# X1 = X1.apply(lambda x: x.fillna(x.mean()) if x.dtype.kind in 'biufc' \n",
    "#                      else x.replace('unknown', x.mode()[0]).fillna(x.mode()[0]))\n",
    "# X1_encoded = pd.get_dummies(X1, categorical_cols)\n",
    "# X1 = X1_encoded"
   ]
  },
  {
   "cell_type": "code",
   "execution_count": 72,
   "metadata": {},
   "outputs": [
    {
     "data": {
      "text/plain": [
       "radius1                float64\n",
       "texture1               float64\n",
       "perimeter1             float64\n",
       "area1                  float64\n",
       "smoothness1            float64\n",
       "compactness1           float64\n",
       "concavity1             float64\n",
       "concave_points1        float64\n",
       "symmetry1              float64\n",
       "fractal_dimension1     float64\n",
       "radius2                float64\n",
       "texture2               float64\n",
       "perimeter2             float64\n",
       "area2                  float64\n",
       "smoothness2            float64\n",
       "compactness2           float64\n",
       "concavity2             float64\n",
       "concave_points2        float64\n",
       "symmetry2              float64\n",
       "fractal_dimension2     float64\n",
       "radius3                float64\n",
       "texture3               float64\n",
       "perimeter3             float64\n",
       "area3                  float64\n",
       "smoothness3            float64\n",
       "compactness3           float64\n",
       "concavity3             float64\n",
       "concave_points3        float64\n",
       "symmetry3              float64\n",
       "fractal_dimension3     float64\n",
       "Diagnosis             category\n",
       "dtype: object"
      ]
     },
     "execution_count": 72,
     "metadata": {},
     "output_type": "execute_result"
    }
   ],
   "source": [
    "dataset_2.dtypes"
   ]
  },
  {
   "cell_type": "markdown",
   "metadata": {},
   "source": [
    "##Helper Functions for \n",
    " Loading the Data,\n",
    " Running the Models,\n",
    " Showcasing the Results"
   ]
  },
  {
   "cell_type": "code",
   "execution_count": 63,
   "metadata": {},
   "outputs": [],
   "source": [
    "def loading_data():\n",
    "    X1 = X1.values.astype(np.float32)\n",
    "    y1 = y1.values.ravel().astype(np.int64)\n"
   ]
  },
  {
   "cell_type": "code",
   "execution_count": 61,
   "metadata": {},
   "outputs": [],
   "source": []
  },
  {
   "cell_type": "code",
   "execution_count": 62,
   "metadata": {},
   "outputs": [
    {
     "data": {
      "text/plain": [
       "array([[ 1.5337    ,  0.01101394, -0.56856984, ...,  0.        ,\n",
       "         1.        ,  0.        ],\n",
       "       [ 1.6297495 , -0.4216501 , -0.56856984, ...,  0.        ,\n",
       "         1.        ,  0.        ],\n",
       "       [-0.29124174, -0.12419358, -0.56856984, ...,  0.        ,\n",
       "         1.        ,  0.        ],\n",
       "       ...,\n",
       "       [-1.2517374 , -0.75001127, -0.20522824, ...,  1.        ,\n",
       "         0.        ,  0.        ],\n",
       "       [ 1.7257991 ,  1.0424541 , -0.56856984, ...,  0.        ,\n",
       "         1.        ,  0.        ],\n",
       "       [-0.5793904 , -0.32121027, -0.56856984, ...,  0.        ,\n",
       "         1.        ,  0.        ]], dtype=float32)"
      ]
     },
     "execution_count": 62,
     "metadata": {},
     "output_type": "execute_result"
    }
   ],
   "source": [
    "a"
   ]
  }
 ],
 "metadata": {
  "kernelspec": {
   "display_name": "Python 3",
   "language": "python",
   "name": "python3"
  },
  "language_info": {
   "codemirror_mode": {
    "name": "ipython",
    "version": 3
   },
   "file_extension": ".py",
   "mimetype": "text/x-python",
   "name": "python",
   "nbconvert_exporter": "python",
   "pygments_lexer": "ipython3",
   "version": "3.10.13"
  }
 },
 "nbformat": 4,
 "nbformat_minor": 2
}
